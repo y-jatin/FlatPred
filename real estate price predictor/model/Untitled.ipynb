{
 "cells": [
  {
   "cell_type": "code",
   "execution_count": 1,
   "id": "fcf1aedd",
   "metadata": {},
   "outputs": [],
   "source": [
    "import pandas as pd\n",
    "import numpy as np\n",
    "from matplotlib import pyplot as plt\n",
    "%matplotlib inline\n",
    "import matplotlib\n",
    "matplotlib.rcParams[\"figure.figsize\"] = (20,10)"
   ]
  },
  {
   "cell_type": "code",
   "execution_count": 2,
   "id": "435b6544",
   "metadata": {},
   "outputs": [
    {
     "data": {
      "text/html": [
       "<div>\n",
       "<style scoped>\n",
       "    .dataframe tbody tr th:only-of-type {\n",
       "        vertical-align: middle;\n",
       "    }\n",
       "\n",
       "    .dataframe tbody tr th {\n",
       "        vertical-align: top;\n",
       "    }\n",
       "\n",
       "    .dataframe thead th {\n",
       "        text-align: right;\n",
       "    }\n",
       "</style>\n",
       "<table border=\"1\" class=\"dataframe\">\n",
       "  <thead>\n",
       "    <tr style=\"text-align: right;\">\n",
       "      <th></th>\n",
       "      <th>Site_Location</th>\n",
       "      <th>Size</th>\n",
       "      <th>Bath</th>\n",
       "      <th>Balcony</th>\n",
       "      <th>New_Total_Sqft</th>\n",
       "      <th>Price</th>\n",
       "      <th>area_type</th>\n",
       "    </tr>\n",
       "  </thead>\n",
       "  <tbody>\n",
       "    <tr>\n",
       "      <th>0</th>\n",
       "      <td>Alandi Road</td>\n",
       "      <td>2 BHK</td>\n",
       "      <td>2</td>\n",
       "      <td>1</td>\n",
       "      <td>1056.0</td>\n",
       "      <td>42.977</td>\n",
       "      <td>Super built-up  Area</td>\n",
       "    </tr>\n",
       "    <tr>\n",
       "      <th>1</th>\n",
       "      <td>Ambegaon Budruk</td>\n",
       "      <td>4 Bedroom</td>\n",
       "      <td>5</td>\n",
       "      <td>3</td>\n",
       "      <td>2600.0</td>\n",
       "      <td>132.000</td>\n",
       "      <td>Plot  Area</td>\n",
       "    </tr>\n",
       "    <tr>\n",
       "      <th>2</th>\n",
       "      <td>Anandnagar</td>\n",
       "      <td>3 BHK</td>\n",
       "      <td>2</td>\n",
       "      <td>3</td>\n",
       "      <td>1440.0</td>\n",
       "      <td>68.200</td>\n",
       "      <td>Built-up  Area</td>\n",
       "    </tr>\n",
       "    <tr>\n",
       "      <th>3</th>\n",
       "      <td>Aundh</td>\n",
       "      <td>3 BHK</td>\n",
       "      <td>3</td>\n",
       "      <td>1</td>\n",
       "      <td>1521.0</td>\n",
       "      <td>104.500</td>\n",
       "      <td>Super built-up  Area</td>\n",
       "    </tr>\n",
       "    <tr>\n",
       "      <th>4</th>\n",
       "      <td>Aundh Road</td>\n",
       "      <td>2 BHK</td>\n",
       "      <td>2</td>\n",
       "      <td>1</td>\n",
       "      <td>1200.0</td>\n",
       "      <td>56.100</td>\n",
       "      <td>Super built-up  Area</td>\n",
       "    </tr>\n",
       "  </tbody>\n",
       "</table>\n",
       "</div>"
      ],
      "text/plain": [
       "     Site_Location       Size  Bath  Balcony  New_Total_Sqft    Price  \\\n",
       "0      Alandi Road      2 BHK     2        1          1056.0   42.977   \n",
       "1  Ambegaon Budruk  4 Bedroom     5        3          2600.0  132.000   \n",
       "2       Anandnagar      3 BHK     2        3          1440.0   68.200   \n",
       "3            Aundh      3 BHK     3        1          1521.0  104.500   \n",
       "4       Aundh Road      2 BHK     2        1          1200.0   56.100   \n",
       "\n",
       "              area_type  \n",
       "0  Super built-up  Area  \n",
       "1            Plot  Area  \n",
       "2        Built-up  Area  \n",
       "3  Super built-up  Area  \n",
       "4  Super built-up  Area  "
      ]
     },
     "execution_count": 2,
     "metadata": {},
     "output_type": "execute_result"
    }
   ],
   "source": [
    "df1 = pd.read_csv(\"final.csv\")\n",
    "df1.head()"
   ]
  },
  {
   "cell_type": "code",
   "execution_count": 3,
   "id": "da91fd0f",
   "metadata": {},
   "outputs": [
    {
     "data": {
      "text/plain": [
       "(13304, 7)"
      ]
     },
     "execution_count": 3,
     "metadata": {},
     "output_type": "execute_result"
    }
   ],
   "source": [
    "df1.shape"
   ]
  },
  {
   "cell_type": "code",
   "execution_count": 4,
   "id": "7998060a",
   "metadata": {},
   "outputs": [
    {
     "data": {
      "text/plain": [
       "area_type\n",
       "Built-up  Area          2418\n",
       "Carpet  Area              87\n",
       "Plot  Area              2009\n",
       "Super built-up  Area    8790\n",
       "Name: area_type, dtype: int64"
      ]
     },
     "execution_count": 4,
     "metadata": {},
     "output_type": "execute_result"
    }
   ],
   "source": [
    "df1.groupby('area_type')['area_type'].agg('count')"
   ]
  },
  {
   "cell_type": "code",
   "execution_count": 5,
   "id": "9c4e8c60",
   "metadata": {},
   "outputs": [
    {
     "data": {
      "text/html": [
       "<div>\n",
       "<style scoped>\n",
       "    .dataframe tbody tr th:only-of-type {\n",
       "        vertical-align: middle;\n",
       "    }\n",
       "\n",
       "    .dataframe tbody tr th {\n",
       "        vertical-align: top;\n",
       "    }\n",
       "\n",
       "    .dataframe thead th {\n",
       "        text-align: right;\n",
       "    }\n",
       "</style>\n",
       "<table border=\"1\" class=\"dataframe\">\n",
       "  <thead>\n",
       "    <tr style=\"text-align: right;\">\n",
       "      <th></th>\n",
       "      <th>Site_Location</th>\n",
       "      <th>Size</th>\n",
       "      <th>Bath</th>\n",
       "      <th>New_Total_Sqft</th>\n",
       "      <th>Price</th>\n",
       "    </tr>\n",
       "  </thead>\n",
       "  <tbody>\n",
       "    <tr>\n",
       "      <th>0</th>\n",
       "      <td>Alandi Road</td>\n",
       "      <td>2 BHK</td>\n",
       "      <td>2</td>\n",
       "      <td>1056.0</td>\n",
       "      <td>42.977</td>\n",
       "    </tr>\n",
       "    <tr>\n",
       "      <th>1</th>\n",
       "      <td>Ambegaon Budruk</td>\n",
       "      <td>4 Bedroom</td>\n",
       "      <td>5</td>\n",
       "      <td>2600.0</td>\n",
       "      <td>132.000</td>\n",
       "    </tr>\n",
       "    <tr>\n",
       "      <th>2</th>\n",
       "      <td>Anandnagar</td>\n",
       "      <td>3 BHK</td>\n",
       "      <td>2</td>\n",
       "      <td>1440.0</td>\n",
       "      <td>68.200</td>\n",
       "    </tr>\n",
       "    <tr>\n",
       "      <th>3</th>\n",
       "      <td>Aundh</td>\n",
       "      <td>3 BHK</td>\n",
       "      <td>3</td>\n",
       "      <td>1521.0</td>\n",
       "      <td>104.500</td>\n",
       "    </tr>\n",
       "    <tr>\n",
       "      <th>4</th>\n",
       "      <td>Aundh Road</td>\n",
       "      <td>2 BHK</td>\n",
       "      <td>2</td>\n",
       "      <td>1200.0</td>\n",
       "      <td>56.100</td>\n",
       "    </tr>\n",
       "  </tbody>\n",
       "</table>\n",
       "</div>"
      ],
      "text/plain": [
       "     Site_Location       Size  Bath  New_Total_Sqft    Price\n",
       "0      Alandi Road      2 BHK     2          1056.0   42.977\n",
       "1  Ambegaon Budruk  4 Bedroom     5          2600.0  132.000\n",
       "2       Anandnagar      3 BHK     2          1440.0   68.200\n",
       "3            Aundh      3 BHK     3          1521.0  104.500\n",
       "4       Aundh Road      2 BHK     2          1200.0   56.100"
      ]
     },
     "execution_count": 5,
     "metadata": {},
     "output_type": "execute_result"
    }
   ],
   "source": [
    "df2 = df1.drop(['area_type','Balcony'],axis = 'columns')\n",
    "df2.head()"
   ]
  },
  {
   "cell_type": "code",
   "execution_count": 6,
   "id": "aefc5ea9",
   "metadata": {},
   "outputs": [
    {
     "data": {
      "text/plain": [
       "Site_Location     1\n",
       "Size              0\n",
       "Bath              0\n",
       "New_Total_Sqft    0\n",
       "Price             0\n",
       "dtype: int64"
      ]
     },
     "execution_count": 6,
     "metadata": {},
     "output_type": "execute_result"
    }
   ],
   "source": [
    "df2.isnull().sum()"
   ]
  },
  {
   "cell_type": "code",
   "execution_count": 7,
   "id": "5ec4add7",
   "metadata": {},
   "outputs": [
    {
     "data": {
      "text/plain": [
       "Site_Location     0\n",
       "Size              0\n",
       "Bath              0\n",
       "New_Total_Sqft    0\n",
       "Price             0\n",
       "dtype: int64"
      ]
     },
     "execution_count": 7,
     "metadata": {},
     "output_type": "execute_result"
    }
   ],
   "source": [
    "df3 = df2.dropna()\n",
    "df3.isnull().sum()"
   ]
  },
  {
   "cell_type": "code",
   "execution_count": 8,
   "id": "75099c8f",
   "metadata": {},
   "outputs": [
    {
     "data": {
      "text/plain": [
       "(13303, 5)"
      ]
     },
     "execution_count": 8,
     "metadata": {},
     "output_type": "execute_result"
    }
   ],
   "source": [
    "df3.shape"
   ]
  },
  {
   "cell_type": "code",
   "execution_count": 9,
   "id": "7079730a",
   "metadata": {},
   "outputs": [
    {
     "data": {
      "text/plain": [
       "array(['2 BHK', '4 Bedroom', '3 BHK', '4 BHK', '6 Bedroom', '3 Bedroom',\n",
       "       '1 BHK', '1 RK', '1 Bedroom', '8 Bedroom', '2 Bedroom',\n",
       "       '7 Bedroom', '5 BHK', '7 BHK', '6 BHK', '5 Bedroom', '11 BHK',\n",
       "       '9 BHK', '9 Bedroom', '27 BHK', '10 Bedroom', '11 Bedroom',\n",
       "       '10 BHK', '19 BHK', '16 BHK', '43 Bedroom', '14 BHK', '8 BHK',\n",
       "       '12 Bedroom', '13 BHK', '18 Bedroom'], dtype=object)"
      ]
     },
     "execution_count": 9,
     "metadata": {},
     "output_type": "execute_result"
    }
   ],
   "source": [
    "df3['Size'].unique()"
   ]
  },
  {
   "cell_type": "code",
   "execution_count": 10,
   "id": "8dc12558",
   "metadata": {},
   "outputs": [
    {
     "name": "stderr",
     "output_type": "stream",
     "text": [
      "C:\\Users\\House\\AppData\\Local\\Temp\\ipykernel_12896\\2281274127.py:1: SettingWithCopyWarning: \n",
      "A value is trying to be set on a copy of a slice from a DataFrame.\n",
      "Try using .loc[row_indexer,col_indexer] = value instead\n",
      "\n",
      "See the caveats in the documentation: https://pandas.pydata.org/pandas-docs/stable/user_guide/indexing.html#returning-a-view-versus-a-copy\n",
      "  df3['bhk'] = df3['Size'].apply(lambda x: int(x.split(' ')[0]))\n"
     ]
    }
   ],
   "source": [
    "df3['bhk'] = df3['Size'].apply(lambda x: int(x.split(' ')[0]))"
   ]
  },
  {
   "cell_type": "code",
   "execution_count": 11,
   "id": "6cbb56a7",
   "metadata": {},
   "outputs": [
    {
     "data": {
      "text/html": [
       "<div>\n",
       "<style scoped>\n",
       "    .dataframe tbody tr th:only-of-type {\n",
       "        vertical-align: middle;\n",
       "    }\n",
       "\n",
       "    .dataframe tbody tr th {\n",
       "        vertical-align: top;\n",
       "    }\n",
       "\n",
       "    .dataframe thead th {\n",
       "        text-align: right;\n",
       "    }\n",
       "</style>\n",
       "<table border=\"1\" class=\"dataframe\">\n",
       "  <thead>\n",
       "    <tr style=\"text-align: right;\">\n",
       "      <th></th>\n",
       "      <th>Site_Location</th>\n",
       "      <th>Size</th>\n",
       "      <th>Bath</th>\n",
       "      <th>New_Total_Sqft</th>\n",
       "      <th>Price</th>\n",
       "      <th>bhk</th>\n",
       "    </tr>\n",
       "  </thead>\n",
       "  <tbody>\n",
       "    <tr>\n",
       "      <th>0</th>\n",
       "      <td>Alandi Road</td>\n",
       "      <td>2 BHK</td>\n",
       "      <td>2</td>\n",
       "      <td>1056.0</td>\n",
       "      <td>42.977</td>\n",
       "      <td>2</td>\n",
       "    </tr>\n",
       "    <tr>\n",
       "      <th>1</th>\n",
       "      <td>Ambegaon Budruk</td>\n",
       "      <td>4 Bedroom</td>\n",
       "      <td>5</td>\n",
       "      <td>2600.0</td>\n",
       "      <td>132.000</td>\n",
       "      <td>4</td>\n",
       "    </tr>\n",
       "    <tr>\n",
       "      <th>2</th>\n",
       "      <td>Anandnagar</td>\n",
       "      <td>3 BHK</td>\n",
       "      <td>2</td>\n",
       "      <td>1440.0</td>\n",
       "      <td>68.200</td>\n",
       "      <td>3</td>\n",
       "    </tr>\n",
       "    <tr>\n",
       "      <th>3</th>\n",
       "      <td>Aundh</td>\n",
       "      <td>3 BHK</td>\n",
       "      <td>3</td>\n",
       "      <td>1521.0</td>\n",
       "      <td>104.500</td>\n",
       "      <td>3</td>\n",
       "    </tr>\n",
       "    <tr>\n",
       "      <th>4</th>\n",
       "      <td>Aundh Road</td>\n",
       "      <td>2 BHK</td>\n",
       "      <td>2</td>\n",
       "      <td>1200.0</td>\n",
       "      <td>56.100</td>\n",
       "      <td>2</td>\n",
       "    </tr>\n",
       "  </tbody>\n",
       "</table>\n",
       "</div>"
      ],
      "text/plain": [
       "     Site_Location       Size  Bath  New_Total_Sqft    Price  bhk\n",
       "0      Alandi Road      2 BHK     2          1056.0   42.977    2\n",
       "1  Ambegaon Budruk  4 Bedroom     5          2600.0  132.000    4\n",
       "2       Anandnagar      3 BHK     2          1440.0   68.200    3\n",
       "3            Aundh      3 BHK     3          1521.0  104.500    3\n",
       "4       Aundh Road      2 BHK     2          1200.0   56.100    2"
      ]
     },
     "execution_count": 11,
     "metadata": {},
     "output_type": "execute_result"
    }
   ],
   "source": [
    "df3.head()"
   ]
  },
  {
   "cell_type": "code",
   "execution_count": 12,
   "id": "fed9ef7c",
   "metadata": {},
   "outputs": [
    {
     "data": {
      "text/plain": [
       "array([ 2,  4,  3,  6,  1,  8,  7,  5, 11,  9, 27, 10, 19, 16, 43, 14, 12,\n",
       "       13, 18], dtype=int64)"
      ]
     },
     "execution_count": 12,
     "metadata": {},
     "output_type": "execute_result"
    }
   ],
   "source": [
    "df3['bhk'].unique()"
   ]
  },
  {
   "cell_type": "code",
   "execution_count": 13,
   "id": "a91eef67",
   "metadata": {},
   "outputs": [
    {
     "data": {
      "text/html": [
       "<div>\n",
       "<style scoped>\n",
       "    .dataframe tbody tr th:only-of-type {\n",
       "        vertical-align: middle;\n",
       "    }\n",
       "\n",
       "    .dataframe tbody tr th {\n",
       "        vertical-align: top;\n",
       "    }\n",
       "\n",
       "    .dataframe thead th {\n",
       "        text-align: right;\n",
       "    }\n",
       "</style>\n",
       "<table border=\"1\" class=\"dataframe\">\n",
       "  <thead>\n",
       "    <tr style=\"text-align: right;\">\n",
       "      <th></th>\n",
       "      <th>Site_Location</th>\n",
       "      <th>Size</th>\n",
       "      <th>Bath</th>\n",
       "      <th>New_Total_Sqft</th>\n",
       "      <th>Price</th>\n",
       "      <th>bhk</th>\n",
       "    </tr>\n",
       "  </thead>\n",
       "  <tbody>\n",
       "    <tr>\n",
       "      <th>1717</th>\n",
       "      <td>Uruli Devachi</td>\n",
       "      <td>27 BHK</td>\n",
       "      <td>27</td>\n",
       "      <td>8000.0</td>\n",
       "      <td>253.0</td>\n",
       "      <td>27</td>\n",
       "    </tr>\n",
       "    <tr>\n",
       "      <th>4679</th>\n",
       "      <td>Salunke Vihar</td>\n",
       "      <td>43 Bedroom</td>\n",
       "      <td>40</td>\n",
       "      <td>2400.0</td>\n",
       "      <td>726.0</td>\n",
       "      <td>43</td>\n",
       "    </tr>\n",
       "  </tbody>\n",
       "</table>\n",
       "</div>"
      ],
      "text/plain": [
       "      Site_Location        Size  Bath  New_Total_Sqft  Price  bhk\n",
       "1717  Uruli Devachi      27 BHK    27          8000.0  253.0   27\n",
       "4679  Salunke Vihar  43 Bedroom    40          2400.0  726.0   43"
      ]
     },
     "execution_count": 13,
     "metadata": {},
     "output_type": "execute_result"
    }
   ],
   "source": [
    "df3[df3.bhk > 20]"
   ]
  },
  {
   "cell_type": "code",
   "execution_count": 14,
   "id": "22443e93",
   "metadata": {},
   "outputs": [
    {
     "data": {
      "text/plain": [
       "array([1056. , 2600. , 1440. , ..., 1258.5,  774. , 4689. ])"
      ]
     },
     "execution_count": 14,
     "metadata": {},
     "output_type": "execute_result"
    }
   ],
   "source": [
    "df3.New_Total_Sqft.unique()"
   ]
  },
  {
   "cell_type": "code",
   "execution_count": 15,
   "id": "d8aac374",
   "metadata": {},
   "outputs": [],
   "source": [
    "def is_float(x):\n",
    "    try:\n",
    "        float(x)\n",
    "    except:\n",
    "        return False\n",
    "    return True"
   ]
  },
  {
   "cell_type": "code",
   "execution_count": 16,
   "id": "ed1fd89b",
   "metadata": {},
   "outputs": [
    {
     "data": {
      "text/html": [
       "<div>\n",
       "<style scoped>\n",
       "    .dataframe tbody tr th:only-of-type {\n",
       "        vertical-align: middle;\n",
       "    }\n",
       "\n",
       "    .dataframe tbody tr th {\n",
       "        vertical-align: top;\n",
       "    }\n",
       "\n",
       "    .dataframe thead th {\n",
       "        text-align: right;\n",
       "    }\n",
       "</style>\n",
       "<table border=\"1\" class=\"dataframe\">\n",
       "  <thead>\n",
       "    <tr style=\"text-align: right;\">\n",
       "      <th></th>\n",
       "      <th>Site_Location</th>\n",
       "      <th>Size</th>\n",
       "      <th>Bath</th>\n",
       "      <th>New_Total_Sqft</th>\n",
       "      <th>Price</th>\n",
       "      <th>bhk</th>\n",
       "    </tr>\n",
       "  </thead>\n",
       "  <tbody>\n",
       "  </tbody>\n",
       "</table>\n",
       "</div>"
      ],
      "text/plain": [
       "Empty DataFrame\n",
       "Columns: [Site_Location, Size, Bath, New_Total_Sqft, Price, bhk]\n",
       "Index: []"
      ]
     },
     "execution_count": 16,
     "metadata": {},
     "output_type": "execute_result"
    }
   ],
   "source": [
    "df3[~df3['New_Total_Sqft'].apply(is_float)].head()"
   ]
  },
  {
   "cell_type": "code",
   "execution_count": 17,
   "id": "b03f31df",
   "metadata": {},
   "outputs": [
    {
     "data": {
      "text/html": [
       "<div>\n",
       "<style scoped>\n",
       "    .dataframe tbody tr th:only-of-type {\n",
       "        vertical-align: middle;\n",
       "    }\n",
       "\n",
       "    .dataframe tbody tr th {\n",
       "        vertical-align: top;\n",
       "    }\n",
       "\n",
       "    .dataframe thead th {\n",
       "        text-align: right;\n",
       "    }\n",
       "</style>\n",
       "<table border=\"1\" class=\"dataframe\">\n",
       "  <thead>\n",
       "    <tr style=\"text-align: right;\">\n",
       "      <th></th>\n",
       "      <th>Site_Location</th>\n",
       "      <th>Size</th>\n",
       "      <th>Bath</th>\n",
       "      <th>New_Total_Sqft</th>\n",
       "      <th>Price</th>\n",
       "      <th>bhk</th>\n",
       "      <th>price_per_sqft</th>\n",
       "    </tr>\n",
       "  </thead>\n",
       "  <tbody>\n",
       "    <tr>\n",
       "      <th>0</th>\n",
       "      <td>Alandi Road</td>\n",
       "      <td>2 BHK</td>\n",
       "      <td>2</td>\n",
       "      <td>1056.0</td>\n",
       "      <td>42.977</td>\n",
       "      <td>2</td>\n",
       "      <td>4069.791667</td>\n",
       "    </tr>\n",
       "    <tr>\n",
       "      <th>1</th>\n",
       "      <td>Ambegaon Budruk</td>\n",
       "      <td>4 Bedroom</td>\n",
       "      <td>5</td>\n",
       "      <td>2600.0</td>\n",
       "      <td>132.000</td>\n",
       "      <td>4</td>\n",
       "      <td>5076.923077</td>\n",
       "    </tr>\n",
       "    <tr>\n",
       "      <th>2</th>\n",
       "      <td>Anandnagar</td>\n",
       "      <td>3 BHK</td>\n",
       "      <td>2</td>\n",
       "      <td>1440.0</td>\n",
       "      <td>68.200</td>\n",
       "      <td>3</td>\n",
       "      <td>4736.111111</td>\n",
       "    </tr>\n",
       "    <tr>\n",
       "      <th>3</th>\n",
       "      <td>Aundh</td>\n",
       "      <td>3 BHK</td>\n",
       "      <td>3</td>\n",
       "      <td>1521.0</td>\n",
       "      <td>104.500</td>\n",
       "      <td>3</td>\n",
       "      <td>6870.479947</td>\n",
       "    </tr>\n",
       "    <tr>\n",
       "      <th>4</th>\n",
       "      <td>Aundh Road</td>\n",
       "      <td>2 BHK</td>\n",
       "      <td>2</td>\n",
       "      <td>1200.0</td>\n",
       "      <td>56.100</td>\n",
       "      <td>2</td>\n",
       "      <td>4675.000000</td>\n",
       "    </tr>\n",
       "  </tbody>\n",
       "</table>\n",
       "</div>"
      ],
      "text/plain": [
       "     Site_Location       Size  Bath  New_Total_Sqft    Price  bhk  \\\n",
       "0      Alandi Road      2 BHK     2          1056.0   42.977    2   \n",
       "1  Ambegaon Budruk  4 Bedroom     5          2600.0  132.000    4   \n",
       "2       Anandnagar      3 BHK     2          1440.0   68.200    3   \n",
       "3            Aundh      3 BHK     3          1521.0  104.500    3   \n",
       "4       Aundh Road      2 BHK     2          1200.0   56.100    2   \n",
       "\n",
       "   price_per_sqft  \n",
       "0     4069.791667  \n",
       "1     5076.923077  \n",
       "2     4736.111111  \n",
       "3     6870.479947  \n",
       "4     4675.000000  "
      ]
     },
     "execution_count": 17,
     "metadata": {},
     "output_type": "execute_result"
    }
   ],
   "source": [
    "df4 = df3.copy()\n",
    "df4['price_per_sqft'] = df4['Price']*100000/df4['New_Total_Sqft']\n",
    "df4.head()"
   ]
  },
  {
   "cell_type": "code",
   "execution_count": 18,
   "id": "ae0dec1e",
   "metadata": {},
   "outputs": [
    {
     "data": {
      "text/plain": [
       "97"
      ]
     },
     "execution_count": 18,
     "metadata": {},
     "output_type": "execute_result"
    }
   ],
   "source": [
    "len(df4.Site_Location.unique())"
   ]
  },
  {
   "cell_type": "code",
   "execution_count": 19,
   "id": "4fdb3b49",
   "metadata": {},
   "outputs": [
    {
     "data": {
      "text/plain": [
       "Site_Location\n",
       "Alandi Road             139\n",
       "Mangalwar peth          139\n",
       "Jangali Maharaj Road    139\n",
       "Kalyani Nagar           139\n",
       "Karve Nagar             139\n",
       "                       ... \n",
       "Satara Road             137\n",
       "Uruli Devachi           137\n",
       "Sadashiv Peth           137\n",
       "Sahakar Nagar           137\n",
       "other                     1\n",
       "Name: Site_Location, Length: 97, dtype: int64"
      ]
     },
     "execution_count": 19,
     "metadata": {},
     "output_type": "execute_result"
    }
   ],
   "source": [
    "df4.Site_Location = df4.Site_Location.apply(lambda x: x.strip())\n",
    "\n",
    "location_stats = df4.groupby('Site_Location')['Site_Location'].agg('count').sort_values(ascending = False)\n",
    "location_stats"
   ]
  },
  {
   "cell_type": "code",
   "execution_count": 20,
   "id": "0ee104c5",
   "metadata": {},
   "outputs": [
    {
     "data": {
      "text/plain": [
       "1"
      ]
     },
     "execution_count": 20,
     "metadata": {},
     "output_type": "execute_result"
    }
   ],
   "source": [
    "len(location_stats[location_stats <= 10])"
   ]
  },
  {
   "cell_type": "code",
   "execution_count": 21,
   "id": "7826b508",
   "metadata": {},
   "outputs": [
    {
     "data": {
      "text/plain": [
       "Site_Location\n",
       "other    1\n",
       "Name: Site_Location, dtype: int64"
      ]
     },
     "execution_count": 21,
     "metadata": {},
     "output_type": "execute_result"
    }
   ],
   "source": [
    "location_less_than_10 = location_stats[location_stats <= 10]\n",
    "location_less_than_10"
   ]
  },
  {
   "cell_type": "code",
   "execution_count": 22,
   "id": "141205a2",
   "metadata": {},
   "outputs": [
    {
     "data": {
      "text/plain": [
       "97"
      ]
     },
     "execution_count": 22,
     "metadata": {},
     "output_type": "execute_result"
    }
   ],
   "source": [
    "df4.Site_Location = df4.Site_Location.apply(lambda x: 'other' if x in location_less_than_10 else x)\n",
    "len(df4.Site_Location.unique())"
   ]
  },
  {
   "cell_type": "code",
   "execution_count": 23,
   "id": "d44b40a6",
   "metadata": {},
   "outputs": [
    {
     "data": {
      "text/html": [
       "<div>\n",
       "<style scoped>\n",
       "    .dataframe tbody tr th:only-of-type {\n",
       "        vertical-align: middle;\n",
       "    }\n",
       "\n",
       "    .dataframe tbody tr th {\n",
       "        vertical-align: top;\n",
       "    }\n",
       "\n",
       "    .dataframe thead th {\n",
       "        text-align: right;\n",
       "    }\n",
       "</style>\n",
       "<table border=\"1\" class=\"dataframe\">\n",
       "  <thead>\n",
       "    <tr style=\"text-align: right;\">\n",
       "      <th></th>\n",
       "      <th>Site_Location</th>\n",
       "      <th>Size</th>\n",
       "      <th>Bath</th>\n",
       "      <th>New_Total_Sqft</th>\n",
       "      <th>Price</th>\n",
       "      <th>bhk</th>\n",
       "      <th>price_per_sqft</th>\n",
       "    </tr>\n",
       "  </thead>\n",
       "  <tbody>\n",
       "    <tr>\n",
       "      <th>9</th>\n",
       "      <td>Bhavani Peth</td>\n",
       "      <td>6 Bedroom</td>\n",
       "      <td>6</td>\n",
       "      <td>1020.0</td>\n",
       "      <td>407.0</td>\n",
       "      <td>6</td>\n",
       "      <td>39901.960784</td>\n",
       "    </tr>\n",
       "    <tr>\n",
       "      <th>45</th>\n",
       "      <td>Kondhwa Budruk</td>\n",
       "      <td>8 Bedroom</td>\n",
       "      <td>9</td>\n",
       "      <td>600.0</td>\n",
       "      <td>220.0</td>\n",
       "      <td>8</td>\n",
       "      <td>36666.666667</td>\n",
       "    </tr>\n",
       "    <tr>\n",
       "      <th>58</th>\n",
       "      <td>Mundhawa</td>\n",
       "      <td>6 Bedroom</td>\n",
       "      <td>4</td>\n",
       "      <td>1407.0</td>\n",
       "      <td>165.0</td>\n",
       "      <td>6</td>\n",
       "      <td>11727.078891</td>\n",
       "    </tr>\n",
       "    <tr>\n",
       "      <th>68</th>\n",
       "      <td>Pirangut</td>\n",
       "      <td>8 Bedroom</td>\n",
       "      <td>7</td>\n",
       "      <td>1350.0</td>\n",
       "      <td>93.5</td>\n",
       "      <td>8</td>\n",
       "      <td>6925.925926</td>\n",
       "    </tr>\n",
       "    <tr>\n",
       "      <th>70</th>\n",
       "      <td>Pune Railway Station</td>\n",
       "      <td>3 Bedroom</td>\n",
       "      <td>3</td>\n",
       "      <td>500.0</td>\n",
       "      <td>110.0</td>\n",
       "      <td>3</td>\n",
       "      <td>22000.000000</td>\n",
       "    </tr>\n",
       "  </tbody>\n",
       "</table>\n",
       "</div>"
      ],
      "text/plain": [
       "           Site_Location       Size  Bath  New_Total_Sqft  Price  bhk  \\\n",
       "9           Bhavani Peth  6 Bedroom     6          1020.0  407.0    6   \n",
       "45        Kondhwa Budruk  8 Bedroom     9           600.0  220.0    8   \n",
       "58              Mundhawa  6 Bedroom     4          1407.0  165.0    6   \n",
       "68              Pirangut  8 Bedroom     7          1350.0   93.5    8   \n",
       "70  Pune Railway Station  3 Bedroom     3           500.0  110.0    3   \n",
       "\n",
       "    price_per_sqft  \n",
       "9     39901.960784  \n",
       "45    36666.666667  \n",
       "58    11727.078891  \n",
       "68     6925.925926  \n",
       "70    22000.000000  "
      ]
     },
     "execution_count": 23,
     "metadata": {},
     "output_type": "execute_result"
    }
   ],
   "source": [
    "df4[df4.New_Total_Sqft/df4.bhk < 300].head() # Outliers"
   ]
  },
  {
   "cell_type": "code",
   "execution_count": 24,
   "id": "ff5f2e88",
   "metadata": {},
   "outputs": [
    {
     "data": {
      "text/plain": [
       "(13303, 7)"
      ]
     },
     "execution_count": 24,
     "metadata": {},
     "output_type": "execute_result"
    }
   ],
   "source": [
    "df4.shape"
   ]
  },
  {
   "cell_type": "code",
   "execution_count": 25,
   "id": "57982be6",
   "metadata": {},
   "outputs": [
    {
     "data": {
      "text/html": [
       "<div>\n",
       "<style scoped>\n",
       "    .dataframe tbody tr th:only-of-type {\n",
       "        vertical-align: middle;\n",
       "    }\n",
       "\n",
       "    .dataframe tbody tr th {\n",
       "        vertical-align: top;\n",
       "    }\n",
       "\n",
       "    .dataframe thead th {\n",
       "        text-align: right;\n",
       "    }\n",
       "</style>\n",
       "<table border=\"1\" class=\"dataframe\">\n",
       "  <thead>\n",
       "    <tr style=\"text-align: right;\">\n",
       "      <th></th>\n",
       "      <th>Site_Location</th>\n",
       "      <th>Size</th>\n",
       "      <th>Bath</th>\n",
       "      <th>New_Total_Sqft</th>\n",
       "      <th>Price</th>\n",
       "      <th>bhk</th>\n",
       "      <th>price_per_sqft</th>\n",
       "    </tr>\n",
       "  </thead>\n",
       "  <tbody>\n",
       "    <tr>\n",
       "      <th>0</th>\n",
       "      <td>Alandi Road</td>\n",
       "      <td>2 BHK</td>\n",
       "      <td>2</td>\n",
       "      <td>1056.0</td>\n",
       "      <td>42.977</td>\n",
       "      <td>2</td>\n",
       "      <td>4069.791667</td>\n",
       "    </tr>\n",
       "    <tr>\n",
       "      <th>1</th>\n",
       "      <td>Ambegaon Budruk</td>\n",
       "      <td>4 Bedroom</td>\n",
       "      <td>5</td>\n",
       "      <td>2600.0</td>\n",
       "      <td>132.000</td>\n",
       "      <td>4</td>\n",
       "      <td>5076.923077</td>\n",
       "    </tr>\n",
       "    <tr>\n",
       "      <th>2</th>\n",
       "      <td>Anandnagar</td>\n",
       "      <td>3 BHK</td>\n",
       "      <td>2</td>\n",
       "      <td>1440.0</td>\n",
       "      <td>68.200</td>\n",
       "      <td>3</td>\n",
       "      <td>4736.111111</td>\n",
       "    </tr>\n",
       "    <tr>\n",
       "      <th>3</th>\n",
       "      <td>Aundh</td>\n",
       "      <td>3 BHK</td>\n",
       "      <td>3</td>\n",
       "      <td>1521.0</td>\n",
       "      <td>104.500</td>\n",
       "      <td>3</td>\n",
       "      <td>6870.479947</td>\n",
       "    </tr>\n",
       "    <tr>\n",
       "      <th>4</th>\n",
       "      <td>Aundh Road</td>\n",
       "      <td>2 BHK</td>\n",
       "      <td>2</td>\n",
       "      <td>1200.0</td>\n",
       "      <td>56.100</td>\n",
       "      <td>2</td>\n",
       "      <td>4675.000000</td>\n",
       "    </tr>\n",
       "  </tbody>\n",
       "</table>\n",
       "</div>"
      ],
      "text/plain": [
       "     Site_Location       Size  Bath  New_Total_Sqft    Price  bhk  \\\n",
       "0      Alandi Road      2 BHK     2          1056.0   42.977    2   \n",
       "1  Ambegaon Budruk  4 Bedroom     5          2600.0  132.000    4   \n",
       "2       Anandnagar      3 BHK     2          1440.0   68.200    3   \n",
       "3            Aundh      3 BHK     3          1521.0  104.500    3   \n",
       "4       Aundh Road      2 BHK     2          1200.0   56.100    2   \n",
       "\n",
       "   price_per_sqft  \n",
       "0     4069.791667  \n",
       "1     5076.923077  \n",
       "2     4736.111111  \n",
       "3     6870.479947  \n",
       "4     4675.000000  "
      ]
     },
     "execution_count": 25,
     "metadata": {},
     "output_type": "execute_result"
    }
   ],
   "source": [
    "df5 = df4[~(df4.New_Total_Sqft/df4.bhk < 300)]\n",
    "df5.head()"
   ]
  },
  {
   "cell_type": "code",
   "execution_count": 26,
   "id": "96547c32",
   "metadata": {},
   "outputs": [
    {
     "data": {
      "text/plain": [
       "(12551, 7)"
      ]
     },
     "execution_count": 26,
     "metadata": {},
     "output_type": "execute_result"
    }
   ],
   "source": [
    "df5.shape"
   ]
  },
  {
   "cell_type": "code",
   "execution_count": 27,
   "id": "6ef223c1",
   "metadata": {},
   "outputs": [
    {
     "data": {
      "text/plain": [
       "count     12551.000000\n",
       "mean       6948.729200\n",
       "std        4590.864567\n",
       "min         294.612795\n",
       "25%        4631.578947\n",
       "50%        5827.814570\n",
       "75%        7624.899598\n",
       "max      194117.647059\n",
       "Name: price_per_sqft, dtype: float64"
      ]
     },
     "execution_count": 27,
     "metadata": {},
     "output_type": "execute_result"
    }
   ],
   "source": [
    "df5.price_per_sqft.describe() # min and max salary are varying too much"
   ]
  },
  {
   "cell_type": "code",
   "execution_count": 28,
   "id": "8da789ee",
   "metadata": {},
   "outputs": [
    {
     "data": {
      "text/plain": [
       "(10971, 7)"
      ]
     },
     "execution_count": 28,
     "metadata": {},
     "output_type": "execute_result"
    }
   ],
   "source": [
    "def remove_pps_outliers(df):\n",
    "    df_out = pd.DataFrame()\n",
    "    for key, subdf in df.groupby('Site_Location'):\n",
    "        m = np.mean(subdf.price_per_sqft)\n",
    "        st = np.std(subdf.price_per_sqft)\n",
    "        reduced_df = subdf[(subdf.price_per_sqft > (m-st)) & (subdf.price_per_sqft <= (m+st))]\n",
    "        df_out = pd.concat([df_out,reduced_df], ignore_index = True)\n",
    "    return df_out\n",
    "\n",
    "df6 = remove_pps_outliers(df5)\n",
    "df6.shape"
   ]
  },
  {
   "cell_type": "code",
   "execution_count": 29,
   "id": "5a320490",
   "metadata": {},
   "outputs": [
    {
     "data": {
      "image/png": "[encoded data removed]",
      "text/plain": [
       "<Figure size 1000x600 with 1 Axes>"
      ]
     },
     "metadata": {},
     "output_type": "display_data"
    }
   ],
   "source": [
    "def plot_scatter_chart(df,location):\n",
    "    bhk2 = df[(df.Site_Location == location) & (df.bhk == 2)]\n",
    "    bhk3 = df[(df.Site_Location == location) & (df.bhk == 3)]\n",
    "    matplotlib.rcParams['figure.figsize'] = (10,6)\n",
    "    plt.scatter(bhk2.New_Total_Sqft,bhk2.Price,color='blue',label='2 BHK',s=50)\n",
    "    plt.scatter(bhk3.New_Total_Sqft,bhk3.Price,color='red',label='3 BHK',s=50)\n",
    "    plt.xlabel(\"Total square feet area\")\n",
    "    plt.ylabel(\"Price per square feet\")\n",
    "    plt.title(location)\n",
    "    plt.legend()\n",
    "    \n",
    "plot_scatter_chart(df6,\"Karve Nagar\") # it represents if price for 3 bhk is lesser than 2 bhk for same area"
   ]
  },
  {
   "cell_type": "code",
   "execution_count": 30,
   "id": "0a6d0bc5",
   "metadata": {},
   "outputs": [
    {
     "data": {
      "text/plain": [
       "(7456, 7)"
      ]
     },
     "execution_count": 30,
     "metadata": {},
     "output_type": "execute_result"
    }
   ],
   "source": [
    "# removing above outliers by making a dictionary of mean std count of 1,2,3 bhk\n",
    "def remove_bhk_outliers(df):\n",
    "    exclude_indices = np.array([])\n",
    "    for location, location_df in df.groupby('Site_Location'):\n",
    "        bhk_stats = {}\n",
    "        for bhk, bhk_df in location_df.groupby('bhk'):\n",
    "            bhk_stats[bhk] = {\n",
    "                'mean':np.mean(bhk_df.price_per_sqft),\n",
    "                'std':np.std(bhk_df.price_per_sqft),\n",
    "                'count':bhk_df.shape[0]\n",
    "            }\n",
    "        for bhk, bhk_df in location_df.groupby('bhk'):\n",
    "            stats = bhk_stats.get(bhk-1)\n",
    "            if stats and stats['count'] > 5:\n",
    "                exclude_indices = np.append(exclude_indices, bhk_df[bhk_df.price_per_sqft < (stats['mean'])].index.values)\n",
    "    return df.drop(exclude_indices,axis='index')\n",
    "\n",
    "df7 = remove_bhk_outliers(df6)\n",
    "df7.shape"
   ]
  },
  {
   "cell_type": "code",
   "execution_count": 31,
   "id": "b54e6af2",
   "metadata": {},
   "outputs": [
    {
     "data": {
      "image/png": "[encoded data removed]",
      "text/plain": [
       "<Figure size 1000x600 with 1 Axes>"
      ]
     },
     "metadata": {},
     "output_type": "display_data"
    }
   ],
   "source": [
    "plot_scatter_chart(df7,\"Karve Nagar\")"
   ]
  },
  {
   "cell_type": "code",
   "execution_count": 32,
   "id": "4f311f17",
   "metadata": {},
   "outputs": [
    {
     "data": {
      "text/plain": [
       "Text(0, 0.5, 'Count')"
      ]
     },
     "execution_count": 32,
     "metadata": {},
     "output_type": "execute_result"
    },
    {
     "data": {
      "image/png": "[encoded data removed]",
      "text/plain": [
       "<Figure size 1000x600 with 1 Axes>"
      ]
     },
     "metadata": {},
     "output_type": "display_data"
    }
   ],
   "source": [
    "matplotlib.rcParams[\"figure.figsize\"] = (10,6)\n",
    "plt.hist(df7.price_per_sqft,rwidth = 0.8)\n",
    "plt.xlabel(\"Price per square feet\")\n",
    "plt.ylabel(\"Count\")\n",
    "# here we can see the prices lie mostly between 2500 and 10000"
   ]
  },
  {
   "cell_type": "code",
   "execution_count": 33,
   "id": "251afecd",
   "metadata": {},
   "outputs": [
    {
     "data": {
      "text/plain": [
       "array([ 2,  4,  3,  5,  9,  1,  6,  7,  8, 12, 13, 16], dtype=int64)"
      ]
     },
     "execution_count": 33,
     "metadata": {},
     "output_type": "execute_result"
    }
   ],
   "source": [
    "df7.Bath.unique()"
   ]
  },
  {
   "cell_type": "code",
   "execution_count": 34,
   "id": "4e29527f",
   "metadata": {},
   "outputs": [
    {
     "data": {
      "text/html": [
       "<div>\n",
       "<style scoped>\n",
       "    .dataframe tbody tr th:only-of-type {\n",
       "        vertical-align: middle;\n",
       "    }\n",
       "\n",
       "    .dataframe tbody tr th {\n",
       "        vertical-align: top;\n",
       "    }\n",
       "\n",
       "    .dataframe thead th {\n",
       "        text-align: right;\n",
       "    }\n",
       "</style>\n",
       "<table border=\"1\" class=\"dataframe\">\n",
       "  <thead>\n",
       "    <tr style=\"text-align: right;\">\n",
       "      <th></th>\n",
       "      <th>Site_Location</th>\n",
       "      <th>Size</th>\n",
       "      <th>Bath</th>\n",
       "      <th>New_Total_Sqft</th>\n",
       "      <th>Price</th>\n",
       "      <th>bhk</th>\n",
       "      <th>price_per_sqft</th>\n",
       "    </tr>\n",
       "  </thead>\n",
       "  <tbody>\n",
       "    <tr>\n",
       "      <th>1222</th>\n",
       "      <td>Bibvewadi</td>\n",
       "      <td>11 BHK</td>\n",
       "      <td>12</td>\n",
       "      <td>6000.0</td>\n",
       "      <td>165.0</td>\n",
       "      <td>11</td>\n",
       "      <td>2750.000000</td>\n",
       "    </tr>\n",
       "    <tr>\n",
       "      <th>2662</th>\n",
       "      <td>Fatima Nagar</td>\n",
       "      <td>10 BHK</td>\n",
       "      <td>12</td>\n",
       "      <td>12000.0</td>\n",
       "      <td>577.5</td>\n",
       "      <td>10</td>\n",
       "      <td>4812.500000</td>\n",
       "    </tr>\n",
       "    <tr>\n",
       "      <th>5314</th>\n",
       "      <td>Kondhwa Khurd</td>\n",
       "      <td>13 BHK</td>\n",
       "      <td>13</td>\n",
       "      <td>5425.0</td>\n",
       "      <td>302.5</td>\n",
       "      <td>13</td>\n",
       "      <td>5576.036866</td>\n",
       "    </tr>\n",
       "    <tr>\n",
       "      <th>6407</th>\n",
       "      <td>Model colony</td>\n",
       "      <td>16 BHK</td>\n",
       "      <td>16</td>\n",
       "      <td>10000.0</td>\n",
       "      <td>605.0</td>\n",
       "      <td>16</td>\n",
       "      <td>6050.000000</td>\n",
       "    </tr>\n",
       "    <tr>\n",
       "      <th>10469</th>\n",
       "      <td>Wagholi</td>\n",
       "      <td>10 BHK</td>\n",
       "      <td>12</td>\n",
       "      <td>4000.0</td>\n",
       "      <td>176.0</td>\n",
       "      <td>10</td>\n",
       "      <td>4400.000000</td>\n",
       "    </tr>\n",
       "  </tbody>\n",
       "</table>\n",
       "</div>"
      ],
      "text/plain": [
       "       Site_Location    Size  Bath  New_Total_Sqft  Price  bhk  price_per_sqft\n",
       "1222       Bibvewadi  11 BHK    12          6000.0  165.0   11     2750.000000\n",
       "2662    Fatima Nagar  10 BHK    12         12000.0  577.5   10     4812.500000\n",
       "5314   Kondhwa Khurd  13 BHK    13          5425.0  302.5   13     5576.036866\n",
       "6407    Model colony  16 BHK    16         10000.0  605.0   16     6050.000000\n",
       "10469        Wagholi  10 BHK    12          4000.0  176.0   10     4400.000000"
      ]
     },
     "execution_count": 34,
     "metadata": {},
     "output_type": "execute_result"
    }
   ],
   "source": [
    "df7[df7.Bath > 10]"
   ]
  },
  {
   "cell_type": "code",
   "execution_count": 37,
   "id": "cf1da60b",
   "metadata": {},
   "outputs": [
    {
     "data": {
      "text/plain": [
       "Text(0, 0.5, 'Count')"
      ]
     },
     "execution_count": 37,
     "metadata": {},
     "output_type": "execute_result"
    },
    {
     "data": {
      "image/png": "[encoded data removed]",
      "text/plain": [
       "<Figure size 1000x600 with 1 Axes>"
      ]
     },
     "metadata": {},
     "output_type": "display_data"
    }
   ],
   "source": [
    "plt.hist(df7.Bath,rwidth=0.8)\n",
    "plt.xlabel('Number of bathrooms')\n",
    "plt.ylabel('Count')"
   ]
  },
  {
   "cell_type": "code",
   "execution_count": 38,
   "id": "ff1dd1b1",
   "metadata": {},
   "outputs": [
    {
     "data": {
      "text/html": [
       "<div>\n",
       "<style scoped>\n",
       "    .dataframe tbody tr th:only-of-type {\n",
       "        vertical-align: middle;\n",
       "    }\n",
       "\n",
       "    .dataframe tbody tr th {\n",
       "        vertical-align: top;\n",
       "    }\n",
       "\n",
       "    .dataframe thead th {\n",
       "        text-align: right;\n",
       "    }\n",
       "</style>\n",
       "<table border=\"1\" class=\"dataframe\">\n",
       "  <thead>\n",
       "    <tr style=\"text-align: right;\">\n",
       "      <th></th>\n",
       "      <th>Site_Location</th>\n",
       "      <th>Size</th>\n",
       "      <th>Bath</th>\n",
       "      <th>New_Total_Sqft</th>\n",
       "      <th>Price</th>\n",
       "      <th>bhk</th>\n",
       "      <th>price_per_sqft</th>\n",
       "    </tr>\n",
       "  </thead>\n",
       "  <tbody>\n",
       "    <tr>\n",
       "      <th>779</th>\n",
       "      <td>Baner</td>\n",
       "      <td>3 BHK</td>\n",
       "      <td>6</td>\n",
       "      <td>1806.0</td>\n",
       "      <td>127.6</td>\n",
       "      <td>3</td>\n",
       "      <td>7065.337763</td>\n",
       "    </tr>\n",
       "    <tr>\n",
       "      <th>3100</th>\n",
       "      <td>Ghorpade Peth</td>\n",
       "      <td>6 BHK</td>\n",
       "      <td>9</td>\n",
       "      <td>11338.0</td>\n",
       "      <td>1100.0</td>\n",
       "      <td>6</td>\n",
       "      <td>9701.887458</td>\n",
       "    </tr>\n",
       "    <tr>\n",
       "      <th>4274</th>\n",
       "      <td>Karve Nagar</td>\n",
       "      <td>4 Bedroom</td>\n",
       "      <td>8</td>\n",
       "      <td>7000.0</td>\n",
       "      <td>495.0</td>\n",
       "      <td>4</td>\n",
       "      <td>7071.428571</td>\n",
       "    </tr>\n",
       "  </tbody>\n",
       "</table>\n",
       "</div>"
      ],
      "text/plain": [
       "      Site_Location       Size  Bath  New_Total_Sqft   Price  bhk  \\\n",
       "779           Baner      3 BHK     6          1806.0   127.6    3   \n",
       "3100  Ghorpade Peth      6 BHK     9         11338.0  1100.0    6   \n",
       "4274    Karve Nagar  4 Bedroom     8          7000.0   495.0    4   \n",
       "\n",
       "      price_per_sqft  \n",
       "779      7065.337763  \n",
       "3100     9701.887458  \n",
       "4274     7071.428571  "
      ]
     },
     "execution_count": 38,
     "metadata": {},
     "output_type": "execute_result"
    }
   ],
   "source": [
    "df7[df7.Bath > df7.bhk+2] # detecting outliers having 2 more bathrooms than bedrooms"
   ]
  },
  {
   "cell_type": "code",
   "execution_count": 40,
   "id": "62b6773a",
   "metadata": {},
   "outputs": [
    {
     "data": {
      "text/plain": [
       "(7391, 7)"
      ]
     },
     "execution_count": 40,
     "metadata": {},
     "output_type": "execute_result"
    }
   ],
   "source": [
    "df8 = df7[df7.Bath < df7.bhk+2]\n",
    "df8.shape"
   ]
  },
  {
   "cell_type": "code",
   "execution_count": 41,
   "id": "8d3db7fe",
   "metadata": {},
   "outputs": [
    {
     "data": {
      "text/html": [
       "<div>\n",
       "<style scoped>\n",
       "    .dataframe tbody tr th:only-of-type {\n",
       "        vertical-align: middle;\n",
       "    }\n",
       "\n",
       "    .dataframe tbody tr th {\n",
       "        vertical-align: top;\n",
       "    }\n",
       "\n",
       "    .dataframe thead th {\n",
       "        text-align: right;\n",
       "    }\n",
       "</style>\n",
       "<table border=\"1\" class=\"dataframe\">\n",
       "  <thead>\n",
       "    <tr style=\"text-align: right;\">\n",
       "      <th></th>\n",
       "      <th>Site_Location</th>\n",
       "      <th>Bath</th>\n",
       "      <th>New_Total_Sqft</th>\n",
       "      <th>Price</th>\n",
       "      <th>bhk</th>\n",
       "    </tr>\n",
       "  </thead>\n",
       "  <tbody>\n",
       "    <tr>\n",
       "      <th>0</th>\n",
       "      <td>Alandi Road</td>\n",
       "      <td>2</td>\n",
       "      <td>1056.0</td>\n",
       "      <td>42.977</td>\n",
       "      <td>2</td>\n",
       "    </tr>\n",
       "    <tr>\n",
       "      <th>1</th>\n",
       "      <td>Alandi Road</td>\n",
       "      <td>4</td>\n",
       "      <td>2894.0</td>\n",
       "      <td>269.500</td>\n",
       "      <td>4</td>\n",
       "    </tr>\n",
       "    <tr>\n",
       "      <th>2</th>\n",
       "      <td>Alandi Road</td>\n",
       "      <td>2</td>\n",
       "      <td>1084.0</td>\n",
       "      <td>55.000</td>\n",
       "      <td>2</td>\n",
       "    </tr>\n",
       "    <tr>\n",
       "      <th>3</th>\n",
       "      <td>Alandi Road</td>\n",
       "      <td>2</td>\n",
       "      <td>1230.0</td>\n",
       "      <td>88.000</td>\n",
       "      <td>2</td>\n",
       "    </tr>\n",
       "    <tr>\n",
       "      <th>4</th>\n",
       "      <td>Alandi Road</td>\n",
       "      <td>3</td>\n",
       "      <td>1750.0</td>\n",
       "      <td>143.000</td>\n",
       "      <td>3</td>\n",
       "    </tr>\n",
       "  </tbody>\n",
       "</table>\n",
       "</div>"
      ],
      "text/plain": [
       "  Site_Location  Bath  New_Total_Sqft    Price  bhk\n",
       "0   Alandi Road     2          1056.0   42.977    2\n",
       "1   Alandi Road     4          2894.0  269.500    4\n",
       "2   Alandi Road     2          1084.0   55.000    2\n",
       "3   Alandi Road     2          1230.0   88.000    2\n",
       "4   Alandi Road     3          1750.0  143.000    3"
      ]
     },
     "execution_count": 41,
     "metadata": {},
     "output_type": "execute_result"
    }
   ],
   "source": [
    "df9 = df8.drop(['Size','price_per_sqft'], axis = 'columns')\n",
    "df9.head()\n",
    "# dropped columns which wer used for outlier detection and no longer necessary as we go into model training phase"
   ]
  },
  {
   "cell_type": "code",
   "execution_count": 42,
   "id": "f3019853",
   "metadata": {},
   "outputs": [
    {
     "data": {
      "text/html": [
       "<div>\n",
       "<style scoped>\n",
       "    .dataframe tbody tr th:only-of-type {\n",
       "        vertical-align: middle;\n",
       "    }\n",
       "\n",
       "    .dataframe tbody tr th {\n",
       "        vertical-align: top;\n",
       "    }\n",
       "\n",
       "    .dataframe thead th {\n",
       "        text-align: right;\n",
       "    }\n",
       "</style>\n",
       "<table border=\"1\" class=\"dataframe\">\n",
       "  <thead>\n",
       "    <tr style=\"text-align: right;\">\n",
       "      <th></th>\n",
       "      <th>Alandi Road</th>\n",
       "      <th>Ambegaon Budruk</th>\n",
       "      <th>Anandnagar</th>\n",
       "      <th>Aundh</th>\n",
       "      <th>Aundh Road</th>\n",
       "      <th>Balaji Nagar</th>\n",
       "      <th>Baner</th>\n",
       "      <th>Baner road</th>\n",
       "      <th>Bhandarkar Road</th>\n",
       "      <th>Bhavani Peth</th>\n",
       "      <th>...</th>\n",
       "      <th>Uruli Devachi</th>\n",
       "      <th>Vadgaon Budruk</th>\n",
       "      <th>Viman Nagar</th>\n",
       "      <th>Vishrant Wadi</th>\n",
       "      <th>Wadgaon Sheri</th>\n",
       "      <th>Wagholi</th>\n",
       "      <th>Wakadewadi</th>\n",
       "      <th>Wanowrie</th>\n",
       "      <th>Warje</th>\n",
       "      <th>Yerawada</th>\n",
       "    </tr>\n",
       "  </thead>\n",
       "  <tbody>\n",
       "    <tr>\n",
       "      <th>0</th>\n",
       "      <td>True</td>\n",
       "      <td>False</td>\n",
       "      <td>False</td>\n",
       "      <td>False</td>\n",
       "      <td>False</td>\n",
       "      <td>False</td>\n",
       "      <td>False</td>\n",
       "      <td>False</td>\n",
       "      <td>False</td>\n",
       "      <td>False</td>\n",
       "      <td>...</td>\n",
       "      <td>False</td>\n",
       "      <td>False</td>\n",
       "      <td>False</td>\n",
       "      <td>False</td>\n",
       "      <td>False</td>\n",
       "      <td>False</td>\n",
       "      <td>False</td>\n",
       "      <td>False</td>\n",
       "      <td>False</td>\n",
       "      <td>False</td>\n",
       "    </tr>\n",
       "    <tr>\n",
       "      <th>1</th>\n",
       "      <td>True</td>\n",
       "      <td>False</td>\n",
       "      <td>False</td>\n",
       "      <td>False</td>\n",
       "      <td>False</td>\n",
       "      <td>False</td>\n",
       "      <td>False</td>\n",
       "      <td>False</td>\n",
       "      <td>False</td>\n",
       "      <td>False</td>\n",
       "      <td>...</td>\n",
       "      <td>False</td>\n",
       "      <td>False</td>\n",
       "      <td>False</td>\n",
       "      <td>False</td>\n",
       "      <td>False</td>\n",
       "      <td>False</td>\n",
       "      <td>False</td>\n",
       "      <td>False</td>\n",
       "      <td>False</td>\n",
       "      <td>False</td>\n",
       "    </tr>\n",
       "    <tr>\n",
       "      <th>2</th>\n",
       "      <td>True</td>\n",
       "      <td>False</td>\n",
       "      <td>False</td>\n",
       "      <td>False</td>\n",
       "      <td>False</td>\n",
       "      <td>False</td>\n",
       "      <td>False</td>\n",
       "      <td>False</td>\n",
       "      <td>False</td>\n",
       "      <td>False</td>\n",
       "      <td>...</td>\n",
       "      <td>False</td>\n",
       "      <td>False</td>\n",
       "      <td>False</td>\n",
       "      <td>False</td>\n",
       "      <td>False</td>\n",
       "      <td>False</td>\n",
       "      <td>False</td>\n",
       "      <td>False</td>\n",
       "      <td>False</td>\n",
       "      <td>False</td>\n",
       "    </tr>\n",
       "    <tr>\n",
       "      <th>3</th>\n",
       "      <td>True</td>\n",
       "      <td>False</td>\n",
       "      <td>False</td>\n",
       "      <td>False</td>\n",
       "      <td>False</td>\n",
       "      <td>False</td>\n",
       "      <td>False</td>\n",
       "      <td>False</td>\n",
       "      <td>False</td>\n",
       "      <td>False</td>\n",
       "      <td>...</td>\n",
       "      <td>False</td>\n",
       "      <td>False</td>\n",
       "      <td>False</td>\n",
       "      <td>False</td>\n",
       "      <td>False</td>\n",
       "      <td>False</td>\n",
       "      <td>False</td>\n",
       "      <td>False</td>\n",
       "      <td>False</td>\n",
       "      <td>False</td>\n",
       "    </tr>\n",
       "    <tr>\n",
       "      <th>4</th>\n",
       "      <td>True</td>\n",
       "      <td>False</td>\n",
       "      <td>False</td>\n",
       "      <td>False</td>\n",
       "      <td>False</td>\n",
       "      <td>False</td>\n",
       "      <td>False</td>\n",
       "      <td>False</td>\n",
       "      <td>False</td>\n",
       "      <td>False</td>\n",
       "      <td>...</td>\n",
       "      <td>False</td>\n",
       "      <td>False</td>\n",
       "      <td>False</td>\n",
       "      <td>False</td>\n",
       "      <td>False</td>\n",
       "      <td>False</td>\n",
       "      <td>False</td>\n",
       "      <td>False</td>\n",
       "      <td>False</td>\n",
       "      <td>False</td>\n",
       "    </tr>\n",
       "  </tbody>\n",
       "</table>\n",
       "<p>5 rows × 96 columns</p>\n",
       "</div>"
      ],
      "text/plain": [
       "   Alandi Road  Ambegaon Budruk  Anandnagar  Aundh  Aundh Road  Balaji Nagar  \\\n",
       "0         True            False       False  False       False         False   \n",
       "1         True            False       False  False       False         False   \n",
       "2         True            False       False  False       False         False   \n",
       "3         True            False       False  False       False         False   \n",
       "4         True            False       False  False       False         False   \n",
       "\n",
       "   Baner  Baner road  Bhandarkar Road  Bhavani Peth  ...  Uruli Devachi  \\\n",
       "0  False       False            False         False  ...          False   \n",
       "1  False       False            False         False  ...          False   \n",
       "2  False       False            False         False  ...          False   \n",
       "3  False       False            False         False  ...          False   \n",
       "4  False       False            False         False  ...          False   \n",
       "\n",
       "   Vadgaon Budruk  Viman Nagar  Vishrant Wadi  Wadgaon Sheri  Wagholi  \\\n",
       "0           False        False          False          False    False   \n",
       "1           False        False          False          False    False   \n",
       "2           False        False          False          False    False   \n",
       "3           False        False          False          False    False   \n",
       "4           False        False          False          False    False   \n",
       "\n",
       "   Wakadewadi  Wanowrie  Warje  Yerawada  \n",
       "0       False     False  False     False  \n",
       "1       False     False  False     False  \n",
       "2       False     False  False     False  \n",
       "3       False     False  False     False  \n",
       "4       False     False  False     False  \n",
       "\n",
       "[5 rows x 96 columns]"
      ]
     },
     "execution_count": 42,
     "metadata": {},
     "output_type": "execute_result"
    }
   ],
   "source": [
    "# one-hot encoding\n",
    "# location is our text data/ categorical which we need to convert into numeric form for model training\n",
    "dummies = pd.get_dummies(df9.Site_Location)\n",
    "dummies.head()"
   ]
  },
  {
   "cell_type": "code",
   "execution_count": 45,
   "id": "8d018d87",
   "metadata": {},
   "outputs": [
    {
     "data": {
      "text/html": [
       "<div>\n",
       "<style scoped>\n",
       "    .dataframe tbody tr th:only-of-type {\n",
       "        vertical-align: middle;\n",
       "    }\n",
       "\n",
       "    .dataframe tbody tr th {\n",
       "        vertical-align: top;\n",
       "    }\n",
       "\n",
       "    .dataframe thead th {\n",
       "        text-align: right;\n",
       "    }\n",
       "</style>\n",
       "<table border=\"1\" class=\"dataframe\">\n",
       "  <thead>\n",
       "    <tr style=\"text-align: right;\">\n",
       "      <th></th>\n",
       "      <th>Site_Location</th>\n",
       "      <th>Bath</th>\n",
       "      <th>New_Total_Sqft</th>\n",
       "      <th>Price</th>\n",
       "      <th>bhk</th>\n",
       "      <th>Alandi Road</th>\n",
       "      <th>Ambegaon Budruk</th>\n",
       "      <th>Anandnagar</th>\n",
       "      <th>Aundh</th>\n",
       "      <th>Aundh Road</th>\n",
       "      <th>...</th>\n",
       "      <th>Uruli Devachi</th>\n",
       "      <th>Vadgaon Budruk</th>\n",
       "      <th>Viman Nagar</th>\n",
       "      <th>Vishrant Wadi</th>\n",
       "      <th>Wadgaon Sheri</th>\n",
       "      <th>Wagholi</th>\n",
       "      <th>Wakadewadi</th>\n",
       "      <th>Wanowrie</th>\n",
       "      <th>Warje</th>\n",
       "      <th>Yerawada</th>\n",
       "    </tr>\n",
       "  </thead>\n",
       "  <tbody>\n",
       "    <tr>\n",
       "      <th>0</th>\n",
       "      <td>Alandi Road</td>\n",
       "      <td>2</td>\n",
       "      <td>1056.0</td>\n",
       "      <td>42.977</td>\n",
       "      <td>2</td>\n",
       "      <td>True</td>\n",
       "      <td>False</td>\n",
       "      <td>False</td>\n",
       "      <td>False</td>\n",
       "      <td>False</td>\n",
       "      <td>...</td>\n",
       "      <td>False</td>\n",
       "      <td>False</td>\n",
       "      <td>False</td>\n",
       "      <td>False</td>\n",
       "      <td>False</td>\n",
       "      <td>False</td>\n",
       "      <td>False</td>\n",
       "      <td>False</td>\n",
       "      <td>False</td>\n",
       "      <td>False</td>\n",
       "    </tr>\n",
       "    <tr>\n",
       "      <th>1</th>\n",
       "      <td>Alandi Road</td>\n",
       "      <td>4</td>\n",
       "      <td>2894.0</td>\n",
       "      <td>269.500</td>\n",
       "      <td>4</td>\n",
       "      <td>True</td>\n",
       "      <td>False</td>\n",
       "      <td>False</td>\n",
       "      <td>False</td>\n",
       "      <td>False</td>\n",
       "      <td>...</td>\n",
       "      <td>False</td>\n",
       "      <td>False</td>\n",
       "      <td>False</td>\n",
       "      <td>False</td>\n",
       "      <td>False</td>\n",
       "      <td>False</td>\n",
       "      <td>False</td>\n",
       "      <td>False</td>\n",
       "      <td>False</td>\n",
       "      <td>False</td>\n",
       "    </tr>\n",
       "    <tr>\n",
       "      <th>2</th>\n",
       "      <td>Alandi Road</td>\n",
       "      <td>2</td>\n",
       "      <td>1084.0</td>\n",
       "      <td>55.000</td>\n",
       "      <td>2</td>\n",
       "      <td>True</td>\n",
       "      <td>False</td>\n",
       "      <td>False</td>\n",
       "      <td>False</td>\n",
       "      <td>False</td>\n",
       "      <td>...</td>\n",
       "      <td>False</td>\n",
       "      <td>False</td>\n",
       "      <td>False</td>\n",
       "      <td>False</td>\n",
       "      <td>False</td>\n",
       "      <td>False</td>\n",
       "      <td>False</td>\n",
       "      <td>False</td>\n",
       "      <td>False</td>\n",
       "      <td>False</td>\n",
       "    </tr>\n",
       "    <tr>\n",
       "      <th>3</th>\n",
       "      <td>Alandi Road</td>\n",
       "      <td>2</td>\n",
       "      <td>1230.0</td>\n",
       "      <td>88.000</td>\n",
       "      <td>2</td>\n",
       "      <td>True</td>\n",
       "      <td>False</td>\n",
       "      <td>False</td>\n",
       "      <td>False</td>\n",
       "      <td>False</td>\n",
       "      <td>...</td>\n",
       "      <td>False</td>\n",
       "      <td>False</td>\n",
       "      <td>False</td>\n",
       "      <td>False</td>\n",
       "      <td>False</td>\n",
       "      <td>False</td>\n",
       "      <td>False</td>\n",
       "      <td>False</td>\n",
       "      <td>False</td>\n",
       "      <td>False</td>\n",
       "    </tr>\n",
       "    <tr>\n",
       "      <th>4</th>\n",
       "      <td>Alandi Road</td>\n",
       "      <td>3</td>\n",
       "      <td>1750.0</td>\n",
       "      <td>143.000</td>\n",
       "      <td>3</td>\n",
       "      <td>True</td>\n",
       "      <td>False</td>\n",
       "      <td>False</td>\n",
       "      <td>False</td>\n",
       "      <td>False</td>\n",
       "      <td>...</td>\n",
       "      <td>False</td>\n",
       "      <td>False</td>\n",
       "      <td>False</td>\n",
       "      <td>False</td>\n",
       "      <td>False</td>\n",
       "      <td>False</td>\n",
       "      <td>False</td>\n",
       "      <td>False</td>\n",
       "      <td>False</td>\n",
       "      <td>False</td>\n",
       "    </tr>\n",
       "  </tbody>\n",
       "</table>\n",
       "<p>5 rows × 101 columns</p>\n",
       "</div>"
      ],
      "text/plain": [
       "  Site_Location  Bath  New_Total_Sqft    Price  bhk  Alandi Road  \\\n",
       "0   Alandi Road     2          1056.0   42.977    2         True   \n",
       "1   Alandi Road     4          2894.0  269.500    4         True   \n",
       "2   Alandi Road     2          1084.0   55.000    2         True   \n",
       "3   Alandi Road     2          1230.0   88.000    2         True   \n",
       "4   Alandi Road     3          1750.0  143.000    3         True   \n",
       "\n",
       "   Ambegaon Budruk  Anandnagar  Aundh  Aundh Road  ...  Uruli Devachi  \\\n",
       "0            False       False  False       False  ...          False   \n",
       "1            False       False  False       False  ...          False   \n",
       "2            False       False  False       False  ...          False   \n",
       "3            False       False  False       False  ...          False   \n",
       "4            False       False  False       False  ...          False   \n",
       "\n",
       "   Vadgaon Budruk  Viman Nagar  Vishrant Wadi  Wadgaon Sheri  Wagholi  \\\n",
       "0           False        False          False          False    False   \n",
       "1           False        False          False          False    False   \n",
       "2           False        False          False          False    False   \n",
       "3           False        False          False          False    False   \n",
       "4           False        False          False          False    False   \n",
       "\n",
       "   Wakadewadi  Wanowrie  Warje  Yerawada  \n",
       "0       False     False  False     False  \n",
       "1       False     False  False     False  \n",
       "2       False     False  False     False  \n",
       "3       False     False  False     False  \n",
       "4       False     False  False     False  \n",
       "\n",
       "[5 rows x 101 columns]"
      ]
     },
     "execution_count": 45,
     "metadata": {},
     "output_type": "execute_result"
    }
   ],
   "source": [
    "df10 = pd.concat([df9,dummies], axis = 'columns') #dummy varaible trap\n",
    "df10.head()"
   ]
  },
  {
   "cell_type": "code",
   "execution_count": 47,
   "id": "8891a464",
   "metadata": {},
   "outputs": [
    {
     "data": {
      "text/html": [
       "<div>\n",
       "<style scoped>\n",
       "    .dataframe tbody tr th:only-of-type {\n",
       "        vertical-align: middle;\n",
       "    }\n",
       "\n",
       "    .dataframe tbody tr th {\n",
       "        vertical-align: top;\n",
       "    }\n",
       "\n",
       "    .dataframe thead th {\n",
       "        text-align: right;\n",
       "    }\n",
       "</style>\n",
       "<table border=\"1\" class=\"dataframe\">\n",
       "  <thead>\n",
       "    <tr style=\"text-align: right;\">\n",
       "      <th></th>\n",
       "      <th>Bath</th>\n",
       "      <th>New_Total_Sqft</th>\n",
       "      <th>Price</th>\n",
       "      <th>bhk</th>\n",
       "      <th>Alandi Road</th>\n",
       "      <th>Ambegaon Budruk</th>\n",
       "      <th>Anandnagar</th>\n",
       "      <th>Aundh</th>\n",
       "      <th>Aundh Road</th>\n",
       "      <th>Balaji Nagar</th>\n",
       "      <th>...</th>\n",
       "      <th>Uruli Devachi</th>\n",
       "      <th>Vadgaon Budruk</th>\n",
       "      <th>Viman Nagar</th>\n",
       "      <th>Vishrant Wadi</th>\n",
       "      <th>Wadgaon Sheri</th>\n",
       "      <th>Wagholi</th>\n",
       "      <th>Wakadewadi</th>\n",
       "      <th>Wanowrie</th>\n",
       "      <th>Warje</th>\n",
       "      <th>Yerawada</th>\n",
       "    </tr>\n",
       "  </thead>\n",
       "  <tbody>\n",
       "    <tr>\n",
       "      <th>0</th>\n",
       "      <td>2</td>\n",
       "      <td>1056.0</td>\n",
       "      <td>42.977</td>\n",
       "      <td>2</td>\n",
       "      <td>True</td>\n",
       "      <td>False</td>\n",
       "      <td>False</td>\n",
       "      <td>False</td>\n",
       "      <td>False</td>\n",
       "      <td>False</td>\n",
       "      <td>...</td>\n",
       "      <td>False</td>\n",
       "      <td>False</td>\n",
       "      <td>False</td>\n",
       "      <td>False</td>\n",
       "      <td>False</td>\n",
       "      <td>False</td>\n",
       "      <td>False</td>\n",
       "      <td>False</td>\n",
       "      <td>False</td>\n",
       "      <td>False</td>\n",
       "    </tr>\n",
       "    <tr>\n",
       "      <th>1</th>\n",
       "      <td>4</td>\n",
       "      <td>2894.0</td>\n",
       "      <td>269.500</td>\n",
       "      <td>4</td>\n",
       "      <td>True</td>\n",
       "      <td>False</td>\n",
       "      <td>False</td>\n",
       "      <td>False</td>\n",
       "      <td>False</td>\n",
       "      <td>False</td>\n",
       "      <td>...</td>\n",
       "      <td>False</td>\n",
       "      <td>False</td>\n",
       "      <td>False</td>\n",
       "      <td>False</td>\n",
       "      <td>False</td>\n",
       "      <td>False</td>\n",
       "      <td>False</td>\n",
       "      <td>False</td>\n",
       "      <td>False</td>\n",
       "      <td>False</td>\n",
       "    </tr>\n",
       "    <tr>\n",
       "      <th>2</th>\n",
       "      <td>2</td>\n",
       "      <td>1084.0</td>\n",
       "      <td>55.000</td>\n",
       "      <td>2</td>\n",
       "      <td>True</td>\n",
       "      <td>False</td>\n",
       "      <td>False</td>\n",
       "      <td>False</td>\n",
       "      <td>False</td>\n",
       "      <td>False</td>\n",
       "      <td>...</td>\n",
       "      <td>False</td>\n",
       "      <td>False</td>\n",
       "      <td>False</td>\n",
       "      <td>False</td>\n",
       "      <td>False</td>\n",
       "      <td>False</td>\n",
       "      <td>False</td>\n",
       "      <td>False</td>\n",
       "      <td>False</td>\n",
       "      <td>False</td>\n",
       "    </tr>\n",
       "    <tr>\n",
       "      <th>3</th>\n",
       "      <td>2</td>\n",
       "      <td>1230.0</td>\n",
       "      <td>88.000</td>\n",
       "      <td>2</td>\n",
       "      <td>True</td>\n",
       "      <td>False</td>\n",
       "      <td>False</td>\n",
       "      <td>False</td>\n",
       "      <td>False</td>\n",
       "      <td>False</td>\n",
       "      <td>...</td>\n",
       "      <td>False</td>\n",
       "      <td>False</td>\n",
       "      <td>False</td>\n",
       "      <td>False</td>\n",
       "      <td>False</td>\n",
       "      <td>False</td>\n",
       "      <td>False</td>\n",
       "      <td>False</td>\n",
       "      <td>False</td>\n",
       "      <td>False</td>\n",
       "    </tr>\n",
       "    <tr>\n",
       "      <th>4</th>\n",
       "      <td>3</td>\n",
       "      <td>1750.0</td>\n",
       "      <td>143.000</td>\n",
       "      <td>3</td>\n",
       "      <td>True</td>\n",
       "      <td>False</td>\n",
       "      <td>False</td>\n",
       "      <td>False</td>\n",
       "      <td>False</td>\n",
       "      <td>False</td>\n",
       "      <td>...</td>\n",
       "      <td>False</td>\n",
       "      <td>False</td>\n",
       "      <td>False</td>\n",
       "      <td>False</td>\n",
       "      <td>False</td>\n",
       "      <td>False</td>\n",
       "      <td>False</td>\n",
       "      <td>False</td>\n",
       "      <td>False</td>\n",
       "      <td>False</td>\n",
       "    </tr>\n",
       "  </tbody>\n",
       "</table>\n",
       "<p>5 rows × 100 columns</p>\n",
       "</div>"
      ],
      "text/plain": [
       "   Bath  New_Total_Sqft    Price  bhk  Alandi Road  Ambegaon Budruk  \\\n",
       "0     2          1056.0   42.977    2         True            False   \n",
       "1     4          2894.0  269.500    4         True            False   \n",
       "2     2          1084.0   55.000    2         True            False   \n",
       "3     2          1230.0   88.000    2         True            False   \n",
       "4     3          1750.0  143.000    3         True            False   \n",
       "\n",
       "   Anandnagar  Aundh  Aundh Road  Balaji Nagar  ...  Uruli Devachi  \\\n",
       "0       False  False       False         False  ...          False   \n",
       "1       False  False       False         False  ...          False   \n",
       "2       False  False       False         False  ...          False   \n",
       "3       False  False       False         False  ...          False   \n",
       "4       False  False       False         False  ...          False   \n",
       "\n",
       "   Vadgaon Budruk  Viman Nagar  Vishrant Wadi  Wadgaon Sheri  Wagholi  \\\n",
       "0           False        False          False          False    False   \n",
       "1           False        False          False          False    False   \n",
       "2           False        False          False          False    False   \n",
       "3           False        False          False          False    False   \n",
       "4           False        False          False          False    False   \n",
       "\n",
       "   Wakadewadi  Wanowrie  Warje  Yerawada  \n",
       "0       False     False  False     False  \n",
       "1       False     False  False     False  \n",
       "2       False     False  False     False  \n",
       "3       False     False  False     False  \n",
       "4       False     False  False     False  \n",
       "\n",
       "[5 rows x 100 columns]"
      ]
     },
     "execution_count": 47,
     "metadata": {},
     "output_type": "execute_result"
    }
   ],
   "source": [
    "df11 = df10.drop('Site_Location',axis='columns')\n",
    "df11.head()"
   ]
  },
  {
   "cell_type": "code",
   "execution_count": 49,
   "id": "ed670c7d",
   "metadata": {},
   "outputs": [
    {
     "data": {
      "text/plain": [
       "(7391, 100)"
      ]
     },
     "execution_count": 49,
     "metadata": {},
     "output_type": "execute_result"
    }
   ],
   "source": [
    "df11.shape"
   ]
  },
  {
   "cell_type": "code",
   "execution_count": 52,
   "id": "49338477",
   "metadata": {},
   "outputs": [
    {
     "data": {
      "text/html": [
       "<div>\n",
       "<style scoped>\n",
       "    .dataframe tbody tr th:only-of-type {\n",
       "        vertical-align: middle;\n",
       "    }\n",
       "\n",
       "    .dataframe tbody tr th {\n",
       "        vertical-align: top;\n",
       "    }\n",
       "\n",
       "    .dataframe thead th {\n",
       "        text-align: right;\n",
       "    }\n",
       "</style>\n",
       "<table border=\"1\" class=\"dataframe\">\n",
       "  <thead>\n",
       "    <tr style=\"text-align: right;\">\n",
       "      <th></th>\n",
       "      <th>Bath</th>\n",
       "      <th>New_Total_Sqft</th>\n",
       "      <th>bhk</th>\n",
       "      <th>Alandi Road</th>\n",
       "      <th>Ambegaon Budruk</th>\n",
       "      <th>Anandnagar</th>\n",
       "      <th>Aundh</th>\n",
       "      <th>Aundh Road</th>\n",
       "      <th>Balaji Nagar</th>\n",
       "      <th>Baner</th>\n",
       "      <th>...</th>\n",
       "      <th>Uruli Devachi</th>\n",
       "      <th>Vadgaon Budruk</th>\n",
       "      <th>Viman Nagar</th>\n",
       "      <th>Vishrant Wadi</th>\n",
       "      <th>Wadgaon Sheri</th>\n",
       "      <th>Wagholi</th>\n",
       "      <th>Wakadewadi</th>\n",
       "      <th>Wanowrie</th>\n",
       "      <th>Warje</th>\n",
       "      <th>Yerawada</th>\n",
       "    </tr>\n",
       "  </thead>\n",
       "  <tbody>\n",
       "    <tr>\n",
       "      <th>0</th>\n",
       "      <td>2</td>\n",
       "      <td>1056.0</td>\n",
       "      <td>2</td>\n",
       "      <td>True</td>\n",
       "      <td>False</td>\n",
       "      <td>False</td>\n",
       "      <td>False</td>\n",
       "      <td>False</td>\n",
       "      <td>False</td>\n",
       "      <td>False</td>\n",
       "      <td>...</td>\n",
       "      <td>False</td>\n",
       "      <td>False</td>\n",
       "      <td>False</td>\n",
       "      <td>False</td>\n",
       "      <td>False</td>\n",
       "      <td>False</td>\n",
       "      <td>False</td>\n",
       "      <td>False</td>\n",
       "      <td>False</td>\n",
       "      <td>False</td>\n",
       "    </tr>\n",
       "    <tr>\n",
       "      <th>1</th>\n",
       "      <td>4</td>\n",
       "      <td>2894.0</td>\n",
       "      <td>4</td>\n",
       "      <td>True</td>\n",
       "      <td>False</td>\n",
       "      <td>False</td>\n",
       "      <td>False</td>\n",
       "      <td>False</td>\n",
       "      <td>False</td>\n",
       "      <td>False</td>\n",
       "      <td>...</td>\n",
       "      <td>False</td>\n",
       "      <td>False</td>\n",
       "      <td>False</td>\n",
       "      <td>False</td>\n",
       "      <td>False</td>\n",
       "      <td>False</td>\n",
       "      <td>False</td>\n",
       "      <td>False</td>\n",
       "      <td>False</td>\n",
       "      <td>False</td>\n",
       "    </tr>\n",
       "    <tr>\n",
       "      <th>2</th>\n",
       "      <td>2</td>\n",
       "      <td>1084.0</td>\n",
       "      <td>2</td>\n",
       "      <td>True</td>\n",
       "      <td>False</td>\n",
       "      <td>False</td>\n",
       "      <td>False</td>\n",
       "      <td>False</td>\n",
       "      <td>False</td>\n",
       "      <td>False</td>\n",
       "      <td>...</td>\n",
       "      <td>False</td>\n",
       "      <td>False</td>\n",
       "      <td>False</td>\n",
       "      <td>False</td>\n",
       "      <td>False</td>\n",
       "      <td>False</td>\n",
       "      <td>False</td>\n",
       "      <td>False</td>\n",
       "      <td>False</td>\n",
       "      <td>False</td>\n",
       "    </tr>\n",
       "    <tr>\n",
       "      <th>3</th>\n",
       "      <td>2</td>\n",
       "      <td>1230.0</td>\n",
       "      <td>2</td>\n",
       "      <td>True</td>\n",
       "      <td>False</td>\n",
       "      <td>False</td>\n",
       "      <td>False</td>\n",
       "      <td>False</td>\n",
       "      <td>False</td>\n",
       "      <td>False</td>\n",
       "      <td>...</td>\n",
       "      <td>False</td>\n",
       "      <td>False</td>\n",
       "      <td>False</td>\n",
       "      <td>False</td>\n",
       "      <td>False</td>\n",
       "      <td>False</td>\n",
       "      <td>False</td>\n",
       "      <td>False</td>\n",
       "      <td>False</td>\n",
       "      <td>False</td>\n",
       "    </tr>\n",
       "    <tr>\n",
       "      <th>4</th>\n",
       "      <td>3</td>\n",
       "      <td>1750.0</td>\n",
       "      <td>3</td>\n",
       "      <td>True</td>\n",
       "      <td>False</td>\n",
       "      <td>False</td>\n",
       "      <td>False</td>\n",
       "      <td>False</td>\n",
       "      <td>False</td>\n",
       "      <td>False</td>\n",
       "      <td>...</td>\n",
       "      <td>False</td>\n",
       "      <td>False</td>\n",
       "      <td>False</td>\n",
       "      <td>False</td>\n",
       "      <td>False</td>\n",
       "      <td>False</td>\n",
       "      <td>False</td>\n",
       "      <td>False</td>\n",
       "      <td>False</td>\n",
       "      <td>False</td>\n",
       "    </tr>\n",
       "  </tbody>\n",
       "</table>\n",
       "<p>5 rows × 99 columns</p>\n",
       "</div>"
      ],
      "text/plain": [
       "   Bath  New_Total_Sqft  bhk  Alandi Road  Ambegaon Budruk  Anandnagar  Aundh  \\\n",
       "0     2          1056.0    2         True            False       False  False   \n",
       "1     4          2894.0    4         True            False       False  False   \n",
       "2     2          1084.0    2         True            False       False  False   \n",
       "3     2          1230.0    2         True            False       False  False   \n",
       "4     3          1750.0    3         True            False       False  False   \n",
       "\n",
       "   Aundh Road  Balaji Nagar  Baner  ...  Uruli Devachi  Vadgaon Budruk  \\\n",
       "0       False         False  False  ...          False           False   \n",
       "1       False         False  False  ...          False           False   \n",
       "2       False         False  False  ...          False           False   \n",
       "3       False         False  False  ...          False           False   \n",
       "4       False         False  False  ...          False           False   \n",
       "\n",
       "   Viman Nagar  Vishrant Wadi  Wadgaon Sheri  Wagholi  Wakadewadi  Wanowrie  \\\n",
       "0        False          False          False    False       False     False   \n",
       "1        False          False          False    False       False     False   \n",
       "2        False          False          False    False       False     False   \n",
       "3        False          False          False    False       False     False   \n",
       "4        False          False          False    False       False     False   \n",
       "\n",
       "   Warje  Yerawada  \n",
       "0  False     False  \n",
       "1  False     False  \n",
       "2  False     False  \n",
       "3  False     False  \n",
       "4  False     False  \n",
       "\n",
       "[5 rows x 99 columns]"
      ]
     },
     "execution_count": 52,
     "metadata": {},
     "output_type": "execute_result"
    }
   ],
   "source": [
    "x = df11.drop('Price',axis='columns')\n",
    "x.head() # independent variable"
   ]
  },
  {
   "cell_type": "code",
   "execution_count": 54,
   "id": "ddae039d",
   "metadata": {},
   "outputs": [
    {
     "data": {
      "text/plain": [
       "0     42.977\n",
       "1    269.500\n",
       "2     55.000\n",
       "3     88.000\n",
       "4    143.000\n",
       "Name: Price, dtype: float64"
      ]
     },
     "execution_count": 54,
     "metadata": {},
     "output_type": "execute_result"
    }
   ],
   "source": [
    "y = df11.Price\n",
    "y.head() # dependent variable"
   ]
  },
  {
   "cell_type": "code",
   "execution_count": 55,
   "id": "fbfd7619",
   "metadata": {},
   "outputs": [],
   "source": [
    "from sklearn.model_selection import train_test_split\n",
    "x_train,x_test,y_train,y_test = train_test_split(x,y,test_size=0.2,random_state=10)"
   ]
  },
  {
   "cell_type": "code",
   "execution_count": 56,
   "id": "f334d6e1",
   "metadata": {},
   "outputs": [
    {
     "data": {
      "text/plain": [
       "0.8860465063381998"
      ]
     },
     "execution_count": 56,
     "metadata": {},
     "output_type": "execute_result"
    }
   ],
   "source": [
    "from sklearn.linear_model import LinearRegression\n",
    "lr_clf = LinearRegression()\n",
    "lr_clf.fit(x_train,y_train)\n",
    "lr_clf.score(x_test,y_test)"
   ]
  },
  {
   "cell_type": "code",
   "execution_count": 58,
   "id": "1b1705b6",
   "metadata": {},
   "outputs": [
    {
     "data": {
      "text/plain": [
       "array([0.82330965, 0.86469386, 0.88916743, 0.82946401, 0.8005267 ])"
      ]
     },
     "execution_count": 58,
     "metadata": {},
     "output_type": "execute_result"
    }
   ],
   "source": [
    "# k-fold cross validation\n",
    "from sklearn.model_selection import ShuffleSplit\n",
    "from sklearn.model_selection import cross_val_score\n",
    "cv = ShuffleSplit(n_splits=5,test_size=0.2,random_state=0)\n",
    "cross_val_score(LinearRegression(),x,y,cv=cv)"
   ]
  },
  {
   "cell_type": "code",
   "execution_count": 63,
   "id": "edc37d9e",
   "metadata": {},
   "outputs": [
    {
     "name": "stderr",
     "output_type": "stream",
     "text": [
      "C:\\ProgramData\\anaconda3\\Lib\\site-packages\\sklearn\\model_selection\\_validation.py:378: FitFailedWarning: \n",
      "10 fits failed out of a total of 20.\n",
      "The score on these train-test partitions for these parameters will be set to nan.\n",
      "If these failures are not expected, you can try to debug them by setting error_score='raise'.\n",
      "\n",
      "Below are more details about the failures:\n",
      "--------------------------------------------------------------------------------\n",
      "10 fits failed with the following error:\n",
      "Traceback (most recent call last):\n",
      "  File \"C:\\ProgramData\\anaconda3\\Lib\\site-packages\\sklearn\\model_selection\\_validation.py\", line 686, in _fit_and_score\n",
      "    estimator.fit(X_train, y_train, **fit_params)\n",
      "  File \"C:\\ProgramData\\anaconda3\\Lib\\site-packages\\sklearn\\tree\\_classes.py\", line 1247, in fit\n",
      "    super().fit(\n",
      "  File \"C:\\ProgramData\\anaconda3\\Lib\\site-packages\\sklearn\\tree\\_classes.py\", line 177, in fit\n",
      "    self._validate_params()\n",
      "  File \"C:\\ProgramData\\anaconda3\\Lib\\site-packages\\sklearn\\base.py\", line 600, in _validate_params\n",
      "    validate_parameter_constraints(\n",
      "  File \"C:\\ProgramData\\anaconda3\\Lib\\site-packages\\sklearn\\utils\\_param_validation.py\", line 97, in validate_parameter_constraints\n",
      "    raise InvalidParameterError(\n",
      "sklearn.utils._param_validation.InvalidParameterError: The 'criterion' parameter of DecisionTreeRegressor must be a str among {'friedman_mse', 'absolute_error', 'squared_error', 'poisson'}. Got 'mse' instead.\n",
      "\n",
      "  warnings.warn(some_fits_failed_message, FitFailedWarning)\n",
      "C:\\ProgramData\\anaconda3\\Lib\\site-packages\\sklearn\\model_selection\\_search.py:952: UserWarning: One or more of the test scores are non-finite: [       nan        nan 0.79457123 0.78408413]\n",
      "  warnings.warn(\n"
     ]
    },
    {
     "data": {
      "text/html": [
       "<div>\n",
       "<style scoped>\n",
       "    .dataframe tbody tr th:only-of-type {\n",
       "        vertical-align: middle;\n",
       "    }\n",
       "\n",
       "    .dataframe tbody tr th {\n",
       "        vertical-align: top;\n",
       "    }\n",
       "\n",
       "    .dataframe thead th {\n",
       "        text-align: right;\n",
       "    }\n",
       "</style>\n",
       "<table border=\"1\" class=\"dataframe\">\n",
       "  <thead>\n",
       "    <tr style=\"text-align: right;\">\n",
       "      <th></th>\n",
       "      <th>model</th>\n",
       "      <th>best_score</th>\n",
       "      <th>best_params</th>\n",
       "    </tr>\n",
       "  </thead>\n",
       "  <tbody>\n",
       "    <tr>\n",
       "      <th>0</th>\n",
       "      <td>linear_regression</td>\n",
       "      <td>0.841973</td>\n",
       "      <td>{'fit_intercept': False}</td>\n",
       "    </tr>\n",
       "    <tr>\n",
       "      <th>1</th>\n",
       "      <td>lasso</td>\n",
       "      <td>0.839474</td>\n",
       "      <td>{'alpha': 2, 'selection': 'random'}</td>\n",
       "    </tr>\n",
       "    <tr>\n",
       "      <th>2</th>\n",
       "      <td>decision_tree</td>\n",
       "      <td>0.794571</td>\n",
       "      <td>{'criterion': 'friedman_mse', 'splitter': 'best'}</td>\n",
       "    </tr>\n",
       "  </tbody>\n",
       "</table>\n",
       "</div>"
      ],
      "text/plain": [
       "               model  best_score  \\\n",
       "0  linear_regression    0.841973   \n",
       "1              lasso    0.839474   \n",
       "2      decision_tree    0.794571   \n",
       "\n",
       "                                         best_params  \n",
       "0                           {'fit_intercept': False}  \n",
       "1                {'alpha': 2, 'selection': 'random'}  \n",
       "2  {'criterion': 'friedman_mse', 'splitter': 'best'}  "
      ]
     },
     "execution_count": 63,
     "metadata": {},
     "output_type": "execute_result"
    }
   ],
   "source": [
    "# grid-search cv, it runs our model on different regressors\n",
    "from sklearn.model_selection import GridSearchCV\n",
    "\n",
    "from sklearn.linear_model import Lasso\n",
    "from sklearn.tree import DecisionTreeRegressor\n",
    "\n",
    "def find_best_model_using_gridsearchcv(x,y):\n",
    "    algos = {\n",
    "        'linear_regression':{\n",
    "            'model':LinearRegression(),\n",
    "            'params':{\n",
    "                'fit_intercept':[True,False] # hyper-parameter tuning\n",
    "            }\n",
    "        },\n",
    "        'lasso':{\n",
    "            'model':Lasso(),\n",
    "            'params':{\n",
    "                'alpha':[1,2],\n",
    "                'selection':['random','cyclic']\n",
    "            }\n",
    "        },\n",
    "        'decision_tree':{\n",
    "            'model':DecisionTreeRegressor(),\n",
    "            'params':{\n",
    "                'criterion':['mse','friedman_mse'],\n",
    "                'splitter':['best','random']\n",
    "            }\n",
    "        }\n",
    "    }\n",
    "    \n",
    "    scores = []\n",
    "    cv = ShuffleSplit(n_splits=5,test_size=0.2,random_state=0)\n",
    "    for algo_name,config in algos.items():\n",
    "        gs = GridSearchCV(config['model'],config['params'],cv=cv,return_train_score=False)\n",
    "        gs.fit(x,y)\n",
    "        scores.append({\n",
    "            'model':algo_name,\n",
    "            'best_score':gs.best_score_,\n",
    "            'best_params':gs.best_params_\n",
    "        })\n",
    "    return pd.DataFrame(scores,columns=['model','best_score','best_params'])\n",
    "\n",
    "find_best_model_using_gridsearchcv(x,y)"
   ]
  },
  {
   "cell_type": "code",
   "execution_count": 64,
   "id": "913ae737",
   "metadata": {},
   "outputs": [
    {
     "data": {
      "text/plain": [
       "Index(['Bath', 'New_Total_Sqft', 'bhk', 'Alandi Road', 'Ambegaon Budruk',\n",
       "       'Anandnagar', 'Aundh', 'Aundh Road', 'Balaji Nagar', 'Baner',\n",
       "       'Baner road', 'Bhandarkar Road', 'Bhavani Peth', 'Bibvewadi', 'Bopodi',\n",
       "       'Budhwar Peth', 'Bund Garden Road', 'Camp', 'Chandan Nagar', 'Dapodi',\n",
       "       'Deccan Gymkhana', 'Dehu Road', 'Dhankawadi', 'Dhayari Phata',\n",
       "       'Dhole Patil Road', 'Erandwane', 'Fatima Nagar',\n",
       "       'Fergusson College Road', 'Ganesh Peth', 'Ganeshkhind', 'Ghorpade Peth',\n",
       "       'Ghorpadi', 'Gokhale Nagar', 'Gultekdi', 'Guruwar peth', 'Hadapsar',\n",
       "       'Hadapsar Industrial Estate', 'Hingne Khurd', 'Jangali Maharaj Road',\n",
       "       'Kalyani Nagar', 'Karve Nagar', 'Karve Road', 'Kasba Peth', 'Katraj',\n",
       "       'Khadaki', 'Khadki', 'Kharadi', 'Kondhwa', 'Kondhwa Budruk',\n",
       "       'Kondhwa Khurd', 'Koregaon Park', 'Kothrud', 'Law College Road',\n",
       "       'Laxmi Road', 'Lulla Nagar', 'Mahatma Gandhi Road', 'Mangalwar peth',\n",
       "       'Manik Bagh', 'Market yard', 'Model colony', 'Mukund Nagar', 'Mundhawa',\n",
       "       'Nagar Road', 'Nana Peth', 'Narayan Peth', 'Narayangaon', 'Navi Peth',\n",
       "       'Padmavati', 'Parvati Darshan', 'Pashan', 'Paud Road', 'Pirangut',\n",
       "       'Prabhat Road', 'Pune Railway Station', 'Rasta Peth', 'Raviwar Peth',\n",
       "       'Sadashiv Peth', 'Sahakar Nagar', 'Salunke Vihar', 'Sasson Road',\n",
       "       'Satara Road', 'Senapati Bapat Road', 'Shaniwar Peth', 'Shivaji Nagar',\n",
       "       'Shukrawar Peth', 'Sinhagad Road', 'Somwar Peth', 'Swargate',\n",
       "       'Tilak Road', 'Uruli Devachi', 'Vadgaon Budruk', 'Viman Nagar',\n",
       "       'Vishrant Wadi', 'Wadgaon Sheri', 'Wagholi', 'Wakadewadi', 'Wanowrie',\n",
       "       'Warje', 'Yerawada'],\n",
       "      dtype='object')"
      ]
     },
     "execution_count": 64,
     "metadata": {},
     "output_type": "execute_result"
    }
   ],
   "source": [
    "x.columns"
   ]
  },
  {
   "cell_type": "code",
   "execution_count": 65,
   "id": "72a4f473",
   "metadata": {},
   "outputs": [
    {
     "data": {
      "text/plain": [
       "3"
      ]
     },
     "execution_count": 65,
     "metadata": {},
     "output_type": "execute_result"
    }
   ],
   "source": [
    "np.where(x.columns=='Alandi Road')[0][0] # 3rd index"
   ]
  },
  {
   "cell_type": "code",
   "execution_count": 71,
   "id": "657a12c5",
   "metadata": {},
   "outputs": [],
   "source": [
    "def predict_price(location,sqft,bath,bhk):\n",
    "    loc_index = np.where(x.columns==location)[0][0]\n",
    "    \n",
    "    X = np.zeros(len(x.columns))\n",
    "    X[0] = bath\n",
    "    X[1] = sqft\n",
    "    X[2] = bhk\n",
    "    if loc_index >= 0:\n",
    "        X[loc_index] = 1\n",
    "        \n",
    "    return lr_clf.predict([X])[0]"
   ]
  },
  {
   "cell_type": "code",
   "execution_count": 72,
   "id": "b9f39be7",
   "metadata": {},
   "outputs": [
    {
     "name": "stderr",
     "output_type": "stream",
     "text": [
      "C:\\ProgramData\\anaconda3\\Lib\\site-packages\\sklearn\\base.py:439: UserWarning: X does not have valid feature names, but LinearRegression was fitted with feature names\n",
      "  warnings.warn(\n"
     ]
    },
    {
     "data": {
      "text/plain": [
       "79.96510696411133"
      ]
     },
     "execution_count": 72,
     "metadata": {},
     "output_type": "execute_result"
    }
   ],
   "source": [
    "predict_price('Sinhagad Road',1000,2,2)"
   ]
  },
  {
   "cell_type": "code",
   "execution_count": 73,
   "id": "2f1f582c",
   "metadata": {},
   "outputs": [
    {
     "name": "stderr",
     "output_type": "stream",
     "text": [
      "C:\\ProgramData\\anaconda3\\Lib\\site-packages\\sklearn\\base.py:439: UserWarning: X does not have valid feature names, but LinearRegression was fitted with feature names\n",
      "  warnings.warn(\n"
     ]
    },
    {
     "data": {
      "text/plain": [
       "82.08520126342773"
      ]
     },
     "execution_count": 73,
     "metadata": {},
     "output_type": "execute_result"
    }
   ],
   "source": [
    "predict_price('Sinhagad Road',1000,3,3)"
   ]
  },
  {
   "cell_type": "code",
   "execution_count": 77,
   "id": "033a970c",
   "metadata": {},
   "outputs": [
    {
     "name": "stderr",
     "output_type": "stream",
     "text": [
      "C:\\ProgramData\\anaconda3\\Lib\\site-packages\\sklearn\\base.py:439: UserWarning: X does not have valid feature names, but LinearRegression was fitted with feature names\n",
      "  warnings.warn(\n"
     ]
    },
    {
     "data": {
      "text/plain": [
       "56.96241569519043"
      ]
     },
     "execution_count": 77,
     "metadata": {},
     "output_type": "execute_result"
    }
   ],
   "source": [
    "predict_price('Dhankawadi',1000,2,2)"
   ]
  },
  {
   "cell_type": "code",
   "execution_count": 78,
   "id": "41f6789b",
   "metadata": {},
   "outputs": [],
   "source": [
    "import pickle\n",
    "with open('pune_home_prices_model.pickle','wb') as f:\n",
    "    pickle.dump(lr_clf,f)"
   ]
  },
  {
   "cell_type": "code",
   "execution_count": 79,
   "id": "3cc7f0cc",
   "metadata": {},
   "outputs": [],
   "source": [
    "import json\n",
    "columns = {\n",
    "    'data_columns':[col.lower() for col in X.columns]\n",
    "}\n",
    "with open(\"columns.json\",\"w\") as f:\n",
    "    f.write(json.dumps(columns))"
   ]
  },
  {
   "cell_type": "code",
   "execution_count": null,
   "id": "3633a82f",
   "metadata": {},
   "outputs": [],
   "source": []
  }
 ],
 "metadata": {
  "kernelspec": {
   "display_name": "Python 3 (ipykernel)",
   "language": "python",
   "name": "python3"
  },
  "language_info": {
   "codemirror_mode": {
    "name": "ipython",
    "version": 3
   },
   "file_extension": ".py",
   "mimetype": "text/x-python",
   "name": "python",
   "nbconvert_exporter": "python",
   "pygments_lexer": "ipython3",
   "version": "3.11.7"
  }
 },
 "nbformat": 4,
 "nbformat_minor": 5
}
